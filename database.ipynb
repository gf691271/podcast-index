import sqlite3
import pandas as pd

# Connect to the SQLite database
conn = sqlite3.connect('data/podcastindex_feeds.db')

# Execute a query and store the result in a DataFrame
# Replace "table_name" with the name of the table you want to query
df = pd.read_sql_query("SELECT * FROM table_name", conn)

# Close the connection
conn.close()

# Now you can work with the DataFrame
print(df.head())