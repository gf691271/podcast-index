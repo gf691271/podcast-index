{
 "cells": [
  {
   "cell_type": "code",
   "execution_count": 7,
   "metadata": {},
   "outputs": [
    {
     "name": "stdout",
     "output_type": "stream",
     "text": [
      "     id                                                url  \\\n",
      "0   280  http://kludgesoft.com/soundcloud-rss.php?feed=...   \n",
      "1   480          http://feeds.feedburner.com/Match3Podcast   \n",
      "2  1224            https://feeds.buzzsprout.com/129999.rss   \n",
      "3  1563                      https://iono.fm/rss/chan/2439   \n",
      "4  1762            https://anchor.fm/s/a9a7d60/podcast/rss   \n",
      "\n",
      "                             title  lastUpdate  \\\n",
      "0                                   1629756016   \n",
      "1                  Match 3 Podcast  1622743639   \n",
      "2                   Motorcycle Men  1690338518   \n",
      "3           The AutoTrader Podcast  1690544371   \n",
      "4  SlipAngle powered by TrackTuned  1690547483   \n",
      "\n",
      "                                                link  lastHttpStatus  dead  \\\n",
      "0                                                                200     0   \n",
      "1                 http://match3podcast.blogspot.com/             200     0   \n",
      "2                        http://WWW.MOTORCYCLEMEN.US             200     0   \n",
      "3                          https://cliffcentral.com/             200     0   \n",
      "4  https://podcasters.spotify.com/pod/show/slipan...             200     0   \n",
      "\n",
      "                          contentType    itunesId  \\\n",
      "0                 application/rss+xml  1001084679   \n",
      "1             text/xml; charset=UTF-8  1001849723   \n",
      "2             text/xml; charset=utf-8  1005719306   \n",
      "3              text/xml;charset=UTF-8  1008157554   \n",
      "4  application/rss+xml; charset=utf-8  1009386477   \n",
      "\n",
      "                                         originalUrl  ...   category2  \\\n",
      "0  http://kludgesoft.com/soundcloud-rss.php?feed=...  ...  automotive   \n",
      "1          http://feeds.feedburner.com/Match3Podcast  ...     hobbies   \n",
      "2            https://feeds.buzzsprout.com/129999.rss  ...  automotive   \n",
      "3                       http://iono.fm/rss/chan/2439  ...  automotive   \n",
      "4            https://anchor.fm/s/a9a7d60/podcast/rss  ...  automotive   \n",
      "\n",
      "    category3  category4 category5 category6 category7  category8 category9  \\\n",
      "0        news     comedy                                                      \n",
      "1  automotive                                                                 \n",
      "2      sports                                                                 \n",
      "3  technology                                                                 \n",
      "4                                                                             \n",
      "\n",
      "   category10  newestEnclosureDuration  \n",
      "0                                 2003  \n",
      "1                                       \n",
      "2                                 5762  \n",
      "3                                  678  \n",
      "4                                 6166  \n",
      "\n",
      "[5 rows x 40 columns]\n"
     ]
    }
   ],
   "source": [
    "import sqlite3\n",
    "import pandas as pd\n",
    "\n",
    "# Connect to the SQLite database\n",
    "conn = sqlite3.connect('data/podcastindex_feeds.db')\n",
    "df = pd.read_sql_query(\"SELECT * FROM podcasts WHERE (category1 = 'automotive' OR category2 = 'automotive' OR category3 = 'automotive')\", conn)\n",
    "\n",
    "\n",
    "conn.close()\n",
    "print(df.head())\n",
    "#save to csv\n",
    "df.to_csv('data/podcastindex_feeds_100.csv', index=False, encoding='utf-8-sig')"
   ]
  }
 ],
 "metadata": {
  "kernelspec": {
   "display_name": "venv",
   "language": "python",
   "name": "python3"
  },
  "language_info": {
   "codemirror_mode": {
    "name": "ipython",
    "version": 3
   },
   "file_extension": ".py",
   "mimetype": "text/x-python",
   "name": "python",
   "nbconvert_exporter": "python",
   "pygments_lexer": "ipython3",
   "version": "3.11.4"
  },
  "orig_nbformat": 4
 },
 "nbformat": 4,
 "nbformat_minor": 2
}
